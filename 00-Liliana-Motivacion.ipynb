{
 "cells": [
  {
   "cell_type": "markdown",
   "metadata": {
    "slideshow": {
     "slide_type": "slide"
    }
   },
   "source": [
    "<img src=\"images/scipy-la-2022_logo.png\" alt=\"drawing\" width=\"300\"/>\n",
    "<img src=\"images/banner.png\" alt=\"drawing\" width=\"500\"/>\n",
    "\n",
    "\n",
    "### Recursos para enseñar con Jupyter \n",
    "#### Fecha: \n",
    "####  Sofía Martin, Ariel Ramos, Liliana Hurtado"
   ]
  },
  {
   "cell_type": "markdown",
   "metadata": {
    "slideshow": {
     "slide_type": "slide"
    }
   },
   "source": [
    "# Organización interdisciplinaria\n",
    "\n",
    "+ Pandemia global COVID 19\n",
    "+ equipo de trabajo innovador de enseñanza y aprendizaje en entornos virtuales. \n",
    "\n",
    "## Objetivo: \n",
    "\n",
    "+ El uso de herramientas open source favorecen la inclusión en procesos de innovación educativa de los establecimientos dedicados a la enseñanza, públicos y privados en todos los niveles educativos\n",
    "+ implementación de Python en un VPS con Jupyter HUB/Notebook en diferentes campos disciplinares\n",
    "\n",
    "\n"
   ]
  },
  {
   "cell_type": "markdown",
   "metadata": {},
   "source": [
    "Somos informáticos y sabemos que páginas, repositorios con  guías técnicas disponibles en Internet con este tema, entonces:\n",
    "* ¿cuál es el problema?\n",
    "* ¿por qué no las utilizan los docentes en las escuelas?\n",
    "\n"
   ]
  },
  {
   "cell_type": "markdown",
   "metadata": {
    "slideshow": {
     "slide_type": "slide"
    }
   },
   "source": [
    "**Especialista en Didactica: Liliana Hurtado**  trabaja en el campo pedagógico de la Universidad de Salta, se unió al equipo así lograr la metodología de:\n",
    "* ¿cómo adaptamos estos contenidos para que los docentes lo comprendan?\n",
    "* ¿qué contenidos del área propia de la matemática son mas desafiantes para enseñar o comprender por los estudiantes?"
   ]
  },
  {
   "cell_type": "markdown",
   "metadata": {
    "slideshow": {
     "slide_type": "slide"
    }
   },
   "source": [
    "## Aporte:\n",
    "* Visibilizar los aportes de la propuesta en sus diferentes maneras de interpelar las concepciones tradicionales\n",
    "    * el intercambio de roles para la retroalimentación formativa ubicua y autónoma \n",
    "    * registrar los materiales y las actividades\n",
    "    * acompañar con la documentación de las múltiples intervenciones y sus resultados, producto del juego y el intercambios de roles en el contexto de una acción pedagógica.\n",
    "    * de lenguajes comunicacionales, de evaluación y autonomía. "
   ]
  },
  {
   "cell_type": "markdown",
   "metadata": {},
   "source": [
    "# Habilidades que fomenta\n",
    "\n",
    "La retroalimentación formativa permite a los estudiantes:\n",
    "\n",
    "* Probar posibilidades\n",
    "* Identificar caminos críticos y no críticos de resolución.\n",
    "* Comprender las formas de hacer y resolver.\n",
    "* Identificar las posibilidades de innovación para resolver\n",
    "* Autoevaluar- se individual y colectivamente \n",
    "* Valorar los tiempos de aprendizaje individual y colectivo.\n"
   ]
  },
  {
   "cell_type": "markdown",
   "metadata": {
    "slideshow": {
     "slide_type": "slide"
    }
   },
   "source": [
    "## Caja de arena\n",
    "* ¿por qué? : metáfora con poder para sintetizar las transformaciones y esclarecer la novedad en el campo de la enseñanza y el aprendizaje mediado atraves del uso, en este caso, de Python + Jupyter HUB/Notebook en un VPS.\n",
    "* configuración de un entorno de aprendizaje  y condición de posibilidad para la “enseñanza poderosa” de contenidos de diferentes campos disciplinares para cerar un abordaje \n",
    "    * Transdisciplinar\n",
    "    * Creativo\n",
    "    * Autónomo \n",
    "    * Autoregulado\n",
    "    * Colaborativo\n",
    "    * Lúdico\n",
    "    * Dinámico\n",
    "    * y construido en una matriz multilenguaje, centrado en un sujeto de aprendizaje deseante. "
   ]
  },
  {
   "cell_type": "markdown",
   "metadata": {},
   "source": [
    "# ¿Qué es un cuaderno/notebook?\n",
    "\n",
    "* favorece el intercambio de roles para la retroalimentación formativa ubicua y autónoma. \n",
    "* aprendizaje\n",
    "* autoevaluación y formación \n",
    "* experiencia regsitrada\n",
    "* propuesta enseñanza:\n",
    "    * marco teñorico\n",
    "    * actividades\n",
    "    * ejercicios\n",
    "* se amplia y registra las actividades de la resolución de la temática"
   ]
  },
  {
   "cell_type": "code",
   "execution_count": null,
   "metadata": {},
   "outputs": [],
   "source": []
  }
 ],
 "metadata": {
  "celltoolbar": "Slideshow",
  "kernelspec": {
   "display_name": "Python 3 (ipykernel)",
   "language": "python",
   "name": "python3"
  },
  "language_info": {
   "codemirror_mode": {
    "name": "ipython",
    "version": 3
   },
   "file_extension": ".py",
   "mimetype": "text/x-python",
   "name": "python",
   "nbconvert_exporter": "python",
   "pygments_lexer": "ipython3",
   "version": "3.10.4"
  },
  "rise": {
   "autolaunch": false,
   "enable_chalkboard": false,
   "theme": "simple",
   "transition": "slide"
  }
 },
 "nbformat": 4,
 "nbformat_minor": 4
}
