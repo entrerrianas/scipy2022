{
 "cells": [
  {
   "cell_type": "markdown",
   "metadata": {
    "slideshow": {
     "slide_type": "slide"
    }
   },
   "source": [
    "<img src=\"images/scipy-la-2022_logo.png\" alt=\"drawing\" width=\"400\"/>\n",
    "\n",
    "![banner](images/banner.png)\n",
    "\n",
    "### Recursos para enseñar con Jupyter \n",
    "#### Fecha: \n",
    "####  Sofía Martin, Ariel Ramos, Liliana Hurtado"
   ]
  },
  {
   "cell_type": "markdown",
   "metadata": {
    "slideshow": {
     "slide_type": "slide"
    }
   },
   "source": [
    "## Experiencia Práctica\n",
    "* ¿qué datos me tenemos, cómo los analizamos?\n",
    "* ¿Es lo mismo que en una planilla de cálculo?\n",
    "\n",
    "        "
   ]
  },
  {
   "cell_type": "markdown",
   "metadata": {
    "slideshow": {
     "slide_type": "slide"
    }
   },
   "source": [
    "## Áreas de aplicación de La Ciencia de Datos\n",
    "* Investigación\n",
    "* Indsutria\n",
    "* servicios\n",
    "* Salud\n",
    "* Machine Learning - Inteligencia artificial"
   ]
  },
  {
   "cell_type": "markdown",
   "metadata": {},
   "source": [
    "Vamos a usar datos del ministerio de salud sobre nacimientos en el país entre 2005 y 2010 para hacer algunas preguntas y obtener una respuesta visual con gráficos"
   ]
  },
  {
   "cell_type": "markdown",
   "metadata": {},
   "source": [
    "# Qué información podemos obtener:\n",
    "* El porcentaje de bebés según sexo\n",
    "* ¿Cuántos nacimientos hay por año en el país?\n",
    "* ¿Cuántos nacidos vivos hay por año en el país según el grupo etario de la madre?\n",
    "* ¿Que proporción de madres tuvo hijos antes de los 20?\n",
    "* Para cada nivel de instrucción/educación, ¿Cuántos nacimientos hubo en cada grupo etario?"
   ]
  },
  {
   "cell_type": "markdown",
   "metadata": {},
   "source": [
    "Los datos fueron descargados de la página oficial del [Ministerio de salud](http://datos.salud.gob.ar/dataset/nacidos-vivos-registrados-por-jurisdiccion-de-residencia-de-la-madre-republica-argentina-ano-2017/archivo/3c891522-8448-4490-a7da-6deba78d3b32)"
   ]
  },
  {
   "cell_type": "markdown",
   "metadata": {},
   "source": [
    "¿Qué librería usamos en el cuaderno anterior para graficar?\n",
    "\n",
    "¿Cómo la importamos?\n"
   ]
  },
  {
   "cell_type": "code",
   "execution_count": null,
   "metadata": {},
   "outputs": [],
   "source": [
    "import matplotlib.pyplot as grafica"
   ]
  },
  {
   "cell_type": "markdown",
   "metadata": {
    "slideshow": {
     "slide_type": "fragment"
    }
   },
   "source": [
    "* La librería es: [**matplotlib**](https://matplotlib.org/) (conjunto de módulos)\n",
    "* el módulo dentro de la librería es: **plot**\n",
    "* Renombro el módulo para utilizarlo como **grafica**\n",
    "* [Pandas](https://aprendeconalf.es/docencia/python/manual/pandas/): una herramienta extremadamente versátil y eficiente para procesar estructuras de datos. La importamos?\n"
   ]
  },
  {
   "cell_type": "code",
   "execution_count": 2,
   "metadata": {},
   "outputs": [],
   "source": [
    "import pandas as pd"
   ]
  },
  {
   "cell_type": "code",
   "execution_count": 3,
   "metadata": {},
   "outputs": [],
   "source": [
    "nacimientos = pd.read_csv(\"Nacimientos_Arg_2005-2010.csv\",encoding = \"UTF-8\")"
   ]
  },
  {
   "cell_type": "markdown",
   "metadata": {},
   "source": [
    "Conozcamos un poco nuestros datos:"
   ]
  },
  {
   "cell_type": "code",
   "execution_count": 4,
   "metadata": {},
   "outputs": [
    {
     "data": {
      "text/html": [
       "<div>\n",
       "<style scoped>\n",
       "    .dataframe tbody tr th:only-of-type {\n",
       "        vertical-align: middle;\n",
       "    }\n",
       "\n",
       "    .dataframe tbody tr th {\n",
       "        vertical-align: top;\n",
       "    }\n",
       "\n",
       "    .dataframe thead th {\n",
       "        text-align: right;\n",
       "    }\n",
       "</style>\n",
       "<table border=\"1\" class=\"dataframe\">\n",
       "  <thead>\n",
       "    <tr style=\"text-align: right;\">\n",
       "      <th></th>\n",
       "      <th>anio</th>\n",
       "      <th>jurisdiccion_de_residencia_id</th>\n",
       "      <th>jurisdicion_residencia_nombre</th>\n",
       "      <th>edad_madre_grupo_id</th>\n",
       "      <th>edad_madre_grupo</th>\n",
       "      <th>instruccion_madre</th>\n",
       "      <th>semana_gestacion_id</th>\n",
       "      <th>semana_gestacion</th>\n",
       "      <th>intervalo_peso_al_nacer</th>\n",
       "      <th>Sexo</th>\n",
       "      <th>nacimientos_cantidad</th>\n",
       "    </tr>\n",
       "  </thead>\n",
       "  <tbody>\n",
       "    <tr>\n",
       "      <th>0</th>\n",
       "      <td>2005</td>\n",
       "      <td>2</td>\n",
       "      <td>Ciudad Autónoma de Buenos Aires</td>\n",
       "      <td>5</td>\n",
       "      <td>30 a 34</td>\n",
       "      <td>Secundaria/Polimodal Incompleta</td>\n",
       "      <td>4</td>\n",
       "      <td>28 a 31</td>\n",
       "      <td>1500 a 1999</td>\n",
       "      <td>masculino</td>\n",
       "      <td>1</td>\n",
       "    </tr>\n",
       "    <tr>\n",
       "      <th>1</th>\n",
       "      <td>2005</td>\n",
       "      <td>2</td>\n",
       "      <td>Ciudad Autónoma de Buenos Aires</td>\n",
       "      <td>5</td>\n",
       "      <td>30 a 34</td>\n",
       "      <td>Primaria/C. EGB Completa</td>\n",
       "      <td>4</td>\n",
       "      <td>28 a 31</td>\n",
       "      <td>500 a 999</td>\n",
       "      <td>masculino</td>\n",
       "      <td>2</td>\n",
       "    </tr>\n",
       "    <tr>\n",
       "      <th>2</th>\n",
       "      <td>2005</td>\n",
       "      <td>2</td>\n",
       "      <td>Ciudad Autónoma de Buenos Aires</td>\n",
       "      <td>4</td>\n",
       "      <td>25 a 29</td>\n",
       "      <td>Secundaria/Polimodal Completa</td>\n",
       "      <td>4</td>\n",
       "      <td>28 a 31</td>\n",
       "      <td>1000 a 1499</td>\n",
       "      <td>masculino</td>\n",
       "      <td>6</td>\n",
       "    </tr>\n",
       "    <tr>\n",
       "      <th>3</th>\n",
       "      <td>2005</td>\n",
       "      <td>2</td>\n",
       "      <td>Ciudad Autónoma de Buenos Aires</td>\n",
       "      <td>5</td>\n",
       "      <td>30 a 34</td>\n",
       "      <td>Secundaria/Polimodal Incompleta</td>\n",
       "      <td>5</td>\n",
       "      <td>32 a 36</td>\n",
       "      <td>1500 a 1999</td>\n",
       "      <td>masculino</td>\n",
       "      <td>5</td>\n",
       "    </tr>\n",
       "    <tr>\n",
       "      <th>4</th>\n",
       "      <td>2005</td>\n",
       "      <td>2</td>\n",
       "      <td>Ciudad Autónoma de Buenos Aires</td>\n",
       "      <td>4</td>\n",
       "      <td>25 a 29</td>\n",
       "      <td>Secundaria/Polimodal Completa</td>\n",
       "      <td>4</td>\n",
       "      <td>28 a 31</td>\n",
       "      <td>1500 a 1999</td>\n",
       "      <td>masculino</td>\n",
       "      <td>1</td>\n",
       "    </tr>\n",
       "  </tbody>\n",
       "</table>\n",
       "</div>"
      ],
      "text/plain": [
       "   anio  jurisdiccion_de_residencia_id    jurisdicion_residencia_nombre  \\\n",
       "0  2005                              2  Ciudad Autónoma de Buenos Aires   \n",
       "1  2005                              2  Ciudad Autónoma de Buenos Aires   \n",
       "2  2005                              2  Ciudad Autónoma de Buenos Aires   \n",
       "3  2005                              2  Ciudad Autónoma de Buenos Aires   \n",
       "4  2005                              2  Ciudad Autónoma de Buenos Aires   \n",
       "\n",
       "   edad_madre_grupo_id edad_madre_grupo                instruccion_madre  \\\n",
       "0                    5          30 a 34  Secundaria/Polimodal Incompleta   \n",
       "1                    5          30 a 34         Primaria/C. EGB Completa   \n",
       "2                    4          25 a 29    Secundaria/Polimodal Completa   \n",
       "3                    5          30 a 34  Secundaria/Polimodal Incompleta   \n",
       "4                    4          25 a 29    Secundaria/Polimodal Completa   \n",
       "\n",
       "   semana_gestacion_id semana_gestacion intervalo_peso_al_nacer       Sexo  \\\n",
       "0                    4          28 a 31             1500 a 1999  masculino   \n",
       "1                    4          28 a 31               500 a 999  masculino   \n",
       "2                    4          28 a 31             1000 a 1499  masculino   \n",
       "3                    5          32 a 36             1500 a 1999  masculino   \n",
       "4                    4          28 a 31             1500 a 1999  masculino   \n",
       "\n",
       "   nacimientos_cantidad  \n",
       "0                     1  \n",
       "1                     2  \n",
       "2                     6  \n",
       "3                     5  \n",
       "4                     1  "
      ]
     },
     "execution_count": 4,
     "metadata": {},
     "output_type": "execute_result"
    }
   ],
   "source": [
    "nacimientos.head()"
   ]
  },
  {
   "cell_type": "markdown",
   "metadata": {},
   "source": [
    "En las columnas tenemos las caracaterísticas de cada entrada en la tabla, veamos qué información tenemos"
   ]
  },
  {
   "cell_type": "code",
   "execution_count": 23,
   "metadata": {},
   "outputs": [
    {
     "data": {
      "text/plain": [
       "Index(['anio', 'jurisdiccion_de_residencia_id',\n",
       "       'jurisdicion_residencia_nombre', 'edad_madre_grupo_id',\n",
       "       'edad_madre_grupo', 'instruccion_madre', 'semana_gestacion_id',\n",
       "       'semana_gestacion', 'intervalo_peso_al_nacer', 'Sexo',\n",
       "       'nacimientos_cantidad'],\n",
       "      dtype='object')"
      ]
     },
     "execution_count": 23,
     "metadata": {},
     "output_type": "execute_result"
    }
   ],
   "source": [
    "nacimientos.columns"
   ]
  },
  {
   "cell_type": "code",
   "execution_count": null,
   "metadata": {},
   "outputs": [],
   "source": [
    "Queremos saber el porcentaje de bebés según sexo"
   ]
  },
  {
   "cell_type": "code",
   "execution_count": 24,
   "metadata": {},
   "outputs": [
    {
     "data": {
      "text/plain": [
       "array(['masculino', 'femenino', 'indeterminado', 'desconocido'],\n",
       "      dtype=object)"
      ]
     },
     "execution_count": 24,
     "metadata": {},
     "output_type": "execute_result"
    }
   ],
   "source": [
    "nacimientos['Sexo'].unique()"
   ]
  },
  {
   "cell_type": "markdown",
   "metadata": {},
   "source": [
    "Umm *indeterminado* y *desconocido*, serían lo mismo, reescribamos uno de ellos por el otro"
   ]
  },
  {
   "cell_type": "code",
   "execution_count": 25,
   "metadata": {},
   "outputs": [],
   "source": [
    "nacimientos_mod = nacimientos.replace(to_replace='indeterminado', value='desconocido')"
   ]
  },
  {
   "cell_type": "code",
   "execution_count": 27,
   "metadata": {},
   "outputs": [
    {
     "data": {
      "text/plain": [
       "array(['masculino', 'femenino', 'desconocido'], dtype=object)"
      ]
     },
     "execution_count": 27,
     "metadata": {},
     "output_type": "execute_result"
    }
   ],
   "source": [
    "nacimientos_mod['Sexo'].unique()"
   ]
  },
  {
   "cell_type": "markdown",
   "metadata": {
    "slideshow": {
     "slide_type": "slide"
    }
   },
   "source": [
    "¿Que proporción de madres tuvo hijos antes de los 20?.\n",
    "\n",
    "> ¿Qué columnas nos van a interesar?"
   ]
  },
  {
   "cell_type": "markdown",
   "metadata": {
    "slideshow": {
     "slide_type": "fragment"
    }
   },
   "source": [
    "* edad_madre_grupo\n",
    "* nacimientos_cantidad"
   ]
  },
  {
   "cell_type": "markdown",
   "metadata": {},
   "source": [
    "Si no estamos seguros qué información contienen las columnas:\n",
    "* 'edad_madre_grupo_id'\n",
    "* 'edad_madre_grupo'\n",
    "\n",
    "> Son similares en el nombre, consultemos el contenido de ambas"
   ]
  },
  {
   "cell_type": "code",
   "execution_count": 8,
   "metadata": {},
   "outputs": [
    {
     "data": {
      "text/html": [
       "<div>\n",
       "<style scoped>\n",
       "    .dataframe tbody tr th:only-of-type {\n",
       "        vertical-align: middle;\n",
       "    }\n",
       "\n",
       "    .dataframe tbody tr th {\n",
       "        vertical-align: top;\n",
       "    }\n",
       "\n",
       "    .dataframe thead th {\n",
       "        text-align: right;\n",
       "    }\n",
       "</style>\n",
       "<table border=\"1\" class=\"dataframe\">\n",
       "  <thead>\n",
       "    <tr style=\"text-align: right;\">\n",
       "      <th></th>\n",
       "      <th>edad_madre_grupo_id</th>\n",
       "      <th>edad_madre_grupo</th>\n",
       "    </tr>\n",
       "  </thead>\n",
       "  <tbody>\n",
       "    <tr>\n",
       "      <th>0</th>\n",
       "      <td>5</td>\n",
       "      <td>30 a 34</td>\n",
       "    </tr>\n",
       "    <tr>\n",
       "      <th>1</th>\n",
       "      <td>5</td>\n",
       "      <td>30 a 34</td>\n",
       "    </tr>\n",
       "    <tr>\n",
       "      <th>2</th>\n",
       "      <td>4</td>\n",
       "      <td>25 a 29</td>\n",
       "    </tr>\n",
       "    <tr>\n",
       "      <th>3</th>\n",
       "      <td>5</td>\n",
       "      <td>30 a 34</td>\n",
       "    </tr>\n",
       "    <tr>\n",
       "      <th>4</th>\n",
       "      <td>4</td>\n",
       "      <td>25 a 29</td>\n",
       "    </tr>\n",
       "    <tr>\n",
       "      <th>...</th>\n",
       "      <td>...</td>\n",
       "      <td>...</td>\n",
       "    </tr>\n",
       "    <tr>\n",
       "      <th>497969</th>\n",
       "      <td>5</td>\n",
       "      <td>30 a 34</td>\n",
       "    </tr>\n",
       "    <tr>\n",
       "      <th>497970</th>\n",
       "      <td>5</td>\n",
       "      <td>30 a 34</td>\n",
       "    </tr>\n",
       "    <tr>\n",
       "      <th>497971</th>\n",
       "      <td>4</td>\n",
       "      <td>25 a 29</td>\n",
       "    </tr>\n",
       "    <tr>\n",
       "      <th>497972</th>\n",
       "      <td>5</td>\n",
       "      <td>30 a 34</td>\n",
       "    </tr>\n",
       "    <tr>\n",
       "      <th>497973</th>\n",
       "      <td>9</td>\n",
       "      <td>Sin especificar</td>\n",
       "    </tr>\n",
       "  </tbody>\n",
       "</table>\n",
       "<p>497974 rows × 2 columns</p>\n",
       "</div>"
      ],
      "text/plain": [
       "        edad_madre_grupo_id edad_madre_grupo\n",
       "0                         5          30 a 34\n",
       "1                         5          30 a 34\n",
       "2                         4          25 a 29\n",
       "3                         5          30 a 34\n",
       "4                         4          25 a 29\n",
       "...                     ...              ...\n",
       "497969                    5          30 a 34\n",
       "497970                    5          30 a 34\n",
       "497971                    4          25 a 29\n",
       "497972                    5          30 a 34\n",
       "497973                    9  Sin especificar\n",
       "\n",
       "[497974 rows x 2 columns]"
      ]
     },
     "execution_count": 8,
     "metadata": {},
     "output_type": "execute_result"
    }
   ],
   "source": [
    "nacimientos[['edad_madre_grupo_id', 'edad_madre_grupo']]"
   ]
  },
  {
   "cell_type": "markdown",
   "metadata": {},
   "source": [
    "Podríamos interesarnos saber cuántos grupos de edades hay"
   ]
  },
  {
   "cell_type": "code",
   "execution_count": 9,
   "metadata": {},
   "outputs": [
    {
     "data": {
      "text/plain": [
       "array(['30 a 34', '25 a 29', '20 a 24', '15 a 19', 'Sin especificar',\n",
       "       '40 a 44', 'De 45 y más', ' Menor de 15', '35 a 39'], dtype=object)"
      ]
     },
     "execution_count": 9,
     "metadata": {},
     "output_type": "execute_result"
    }
   ],
   "source": [
    "nacimientos['edad_madre_grupo'].unique()"
   ]
  },
  {
   "cell_type": "markdown",
   "metadata": {},
   "source": [
    "Para no trabajar con todas las columnas que no nos interesan, vamos a quedarnos solamente con las referidas a la consnutla que queremos realizar:\n",
    "* edad_madre_grupo\n",
    "* nacimientos_cantidad"
   ]
  },
  {
   "cell_type": "code",
   "execution_count": 10,
   "metadata": {},
   "outputs": [],
   "source": [
    "nac_may_menor_20 = nacimientos[['edad_madre_grupo','nacimientos_cantidad']]"
   ]
  },
  {
   "cell_type": "code",
   "execution_count": 11,
   "metadata": {},
   "outputs": [
    {
     "data": {
      "text/html": [
       "<div>\n",
       "<style scoped>\n",
       "    .dataframe tbody tr th:only-of-type {\n",
       "        vertical-align: middle;\n",
       "    }\n",
       "\n",
       "    .dataframe tbody tr th {\n",
       "        vertical-align: top;\n",
       "    }\n",
       "\n",
       "    .dataframe thead th {\n",
       "        text-align: right;\n",
       "    }\n",
       "</style>\n",
       "<table border=\"1\" class=\"dataframe\">\n",
       "  <thead>\n",
       "    <tr style=\"text-align: right;\">\n",
       "      <th></th>\n",
       "      <th>edad_madre_grupo</th>\n",
       "      <th>nacimientos_cantidad</th>\n",
       "    </tr>\n",
       "  </thead>\n",
       "  <tbody>\n",
       "    <tr>\n",
       "      <th>0</th>\n",
       "      <td>30 a 34</td>\n",
       "      <td>1</td>\n",
       "    </tr>\n",
       "    <tr>\n",
       "      <th>1</th>\n",
       "      <td>30 a 34</td>\n",
       "      <td>2</td>\n",
       "    </tr>\n",
       "    <tr>\n",
       "      <th>2</th>\n",
       "      <td>25 a 29</td>\n",
       "      <td>6</td>\n",
       "    </tr>\n",
       "    <tr>\n",
       "      <th>3</th>\n",
       "      <td>30 a 34</td>\n",
       "      <td>5</td>\n",
       "    </tr>\n",
       "    <tr>\n",
       "      <th>4</th>\n",
       "      <td>25 a 29</td>\n",
       "      <td>1</td>\n",
       "    </tr>\n",
       "    <tr>\n",
       "      <th>...</th>\n",
       "      <td>...</td>\n",
       "      <td>...</td>\n",
       "    </tr>\n",
       "    <tr>\n",
       "      <th>497969</th>\n",
       "      <td>30 a 34</td>\n",
       "      <td>1</td>\n",
       "    </tr>\n",
       "    <tr>\n",
       "      <th>497970</th>\n",
       "      <td>30 a 34</td>\n",
       "      <td>1</td>\n",
       "    </tr>\n",
       "    <tr>\n",
       "      <th>497971</th>\n",
       "      <td>25 a 29</td>\n",
       "      <td>1</td>\n",
       "    </tr>\n",
       "    <tr>\n",
       "      <th>497972</th>\n",
       "      <td>30 a 34</td>\n",
       "      <td>1</td>\n",
       "    </tr>\n",
       "    <tr>\n",
       "      <th>497973</th>\n",
       "      <td>Sin especificar</td>\n",
       "      <td>10</td>\n",
       "    </tr>\n",
       "  </tbody>\n",
       "</table>\n",
       "<p>497974 rows × 2 columns</p>\n",
       "</div>"
      ],
      "text/plain": [
       "       edad_madre_grupo  nacimientos_cantidad\n",
       "0               30 a 34                     1\n",
       "1               30 a 34                     2\n",
       "2               25 a 29                     6\n",
       "3               30 a 34                     5\n",
       "4               25 a 29                     1\n",
       "...                 ...                   ...\n",
       "497969          30 a 34                     1\n",
       "497970          30 a 34                     1\n",
       "497971          25 a 29                     1\n",
       "497972          30 a 34                     1\n",
       "497973  Sin especificar                    10\n",
       "\n",
       "[497974 rows x 2 columns]"
      ]
     },
     "execution_count": 11,
     "metadata": {},
     "output_type": "execute_result"
    }
   ],
   "source": [
    "nac_may_menor_20"
   ]
  },
  {
   "cell_type": "markdown",
   "metadata": {},
   "source": [
    "Y graficamos!!!"
   ]
  },
  {
   "cell_type": "code",
   "execution_count": 19,
   "metadata": {},
   "outputs": [
    {
     "data": {
      "text/plain": [
       "<AxesSubplot:ylabel='nacimientos_cantidad'>"
      ]
     },
     "execution_count": 19,
     "metadata": {},
     "output_type": "execute_result"
    },
    {
     "data": {
      "image/png": "[encoded data removed]",
      "text/plain": [
       "<Figure size 640x480 with 1 Axes>"
      ]
     },
     "metadata": {},
     "output_type": "display_data"
    }
   ],
   "source": [
    "nac_may_menor_20.groupby(\"edad_madre_grupo\")[\"nacimientos_cantidad\"].count().plot(kind='pie')"
   ]
  },
  {
   "cell_type": "markdown",
   "metadata": {},
   "source": [
    "Pero nos muestra de todos los grupos de edades, veamos como acomodar esto"
   ]
  },
  {
   "cell_type": "markdown",
   "metadata": {},
   "source": [
    "Luego agrupamos los nacimientos en dos categorías, basado en si cumple o no la condición: Si está en los grupos \" Menor de 15\" o \"15 a 19\", ponerlos en un  grupo, sino en otro grupo. (la | es el equivalente a un \"o\")"
   ]
  },
  {
   "cell_type": "code",
   "execution_count": 20,
   "metadata": {},
   "outputs": [],
   "source": [
    "nac_madre_separar_20 = nac_may_menor_20.groupby(\n",
    "                        (nac_may_menor_20.edad_madre_grupo == \" Menor de 15\") \n",
    "                        | (nac_may_menor_20.edad_madre_grupo == \"15 a 19\"))"
   ]
  },
  {
   "cell_type": "markdown",
   "metadata": {},
   "source": [
    "¿Que pasó acá?\n",
    "**Groupby** hizo magia, pero cómo?"
   ]
  },
  {
   "cell_type": "code",
   "execution_count": null,
   "metadata": {},
   "outputs": [],
   "source": []
  },
  {
   "cell_type": "code",
   "execution_count": 21,
   "metadata": {},
   "outputs": [
    {
     "data": {
      "text/html": [
       "<div>\n",
       "<style scoped>\n",
       "    .dataframe tbody tr th:only-of-type {\n",
       "        vertical-align: middle;\n",
       "    }\n",
       "\n",
       "    .dataframe tbody tr th {\n",
       "        vertical-align: top;\n",
       "    }\n",
       "\n",
       "    .dataframe thead th {\n",
       "        text-align: right;\n",
       "    }\n",
       "</style>\n",
       "<table border=\"1\" class=\"dataframe\">\n",
       "  <thead>\n",
       "    <tr style=\"text-align: right;\">\n",
       "      <th></th>\n",
       "      <th>edad_madre_grupo</th>\n",
       "      <th>nacimientos_cantidad</th>\n",
       "    </tr>\n",
       "  </thead>\n",
       "  <tbody>\n",
       "    <tr>\n",
       "      <th>0</th>\n",
       "      <td>30 a 34</td>\n",
       "      <td>1</td>\n",
       "    </tr>\n",
       "    <tr>\n",
       "      <th>1</th>\n",
       "      <td>30 a 34</td>\n",
       "      <td>2</td>\n",
       "    </tr>\n",
       "    <tr>\n",
       "      <th>2</th>\n",
       "      <td>25 a 29</td>\n",
       "      <td>6</td>\n",
       "    </tr>\n",
       "    <tr>\n",
       "      <th>3</th>\n",
       "      <td>30 a 34</td>\n",
       "      <td>5</td>\n",
       "    </tr>\n",
       "    <tr>\n",
       "      <th>4</th>\n",
       "      <td>25 a 29</td>\n",
       "      <td>1</td>\n",
       "    </tr>\n",
       "    <tr>\n",
       "      <th>21</th>\n",
       "      <td>15 a 19</td>\n",
       "      <td>1</td>\n",
       "    </tr>\n",
       "    <tr>\n",
       "      <th>22</th>\n",
       "      <td>15 a 19</td>\n",
       "      <td>2</td>\n",
       "    </tr>\n",
       "    <tr>\n",
       "      <th>23</th>\n",
       "      <td>15 a 19</td>\n",
       "      <td>2</td>\n",
       "    </tr>\n",
       "    <tr>\n",
       "      <th>24</th>\n",
       "      <td>15 a 19</td>\n",
       "      <td>2</td>\n",
       "    </tr>\n",
       "    <tr>\n",
       "      <th>166</th>\n",
       "      <td>15 a 19</td>\n",
       "      <td>61</td>\n",
       "    </tr>\n",
       "  </tbody>\n",
       "</table>\n",
       "</div>"
      ],
      "text/plain": [
       "    edad_madre_grupo  nacimientos_cantidad\n",
       "0            30 a 34                     1\n",
       "1            30 a 34                     2\n",
       "2            25 a 29                     6\n",
       "3            30 a 34                     5\n",
       "4            25 a 29                     1\n",
       "21           15 a 19                     1\n",
       "22           15 a 19                     2\n",
       "23           15 a 19                     2\n",
       "24           15 a 19                     2\n",
       "166          15 a 19                    61"
      ]
     },
     "execution_count": 21,
     "metadata": {},
     "output_type": "execute_result"
    }
   ],
   "source": [
    "nac_sumados = nac_madre_menor_20.sum()\n",
    "nac_madre_menor_20.head()"
   ]
  },
  {
   "cell_type": "code",
   "execution_count": null,
   "metadata": {},
   "outputs": [],
   "source": []
  },
  {
   "cell_type": "code",
   "execution_count": null,
   "metadata": {},
   "outputs": [],
   "source": []
  }
 ],
 "metadata": {
  "celltoolbar": "Slideshow",
  "kernelspec": {
   "display_name": "Python 3 (ipykernel)",
   "language": "python",
   "name": "python3"
  },
  "language_info": {
   "codemirror_mode": {
    "name": "ipython",
    "version": 3
   },
   "file_extension": ".py",
   "mimetype": "text/x-python",
   "name": "python",
   "nbconvert_exporter": "python",
   "pygments_lexer": "ipython3",
   "version": "3.10.4"
  },
  "rise": {
   "autolaunch": false,
   "enable_chalkboard": false,
   "theme": "simple",
   "transition": "slide"
  }
 },
 "nbformat": 4,
 "nbformat_minor": 4
}
